{
 "cells": [
  {
   "cell_type": "code",
   "execution_count": 2,
   "id": "45c20289",
   "metadata": {},
   "outputs": [],
   "source": [
    "# 3.8.9 @c3mcavus\n",
    "# Accessing and Modifying pizel values\n",
    "\n",
    "import numpy as np \n",
    "import cv2 as cv\n",
    "\n",
    "img = cv.imread(\"images/messi.jpg\")"
   ]
  },
  {
   "cell_type": "code",
   "execution_count": 4,
   "id": "f3e99369",
   "metadata": {},
   "outputs": [
    {
     "name": "stdout",
     "output_type": "stream",
     "text": [
      "[68 54 95]\n"
     ]
    }
   ],
   "source": [
    "\"\"\"\n",
    "You can access a pixel value by its row and column coordinates. For BGR image, it returns an array of Blue, Green, Red value.\n",
    "For grayscale image, just corresponding intensity is returned.\n",
    "\"\"\"\n",
    "px = img[100, 100]\n",
    "print(px)"
   ]
  },
  {
   "cell_type": "code",
   "execution_count": 5,
   "id": "4d3c955b",
   "metadata": {},
   "outputs": [
    {
     "name": "stdout",
     "output_type": "stream",
     "text": [
      "68\n"
     ]
    }
   ],
   "source": [
    "# Accessing only blue pixel\n",
    "blue = img[100, 100, 0]\n",
    "print(blue)"
   ]
  },
  {
   "cell_type": "code",
   "execution_count": 6,
   "id": "c846dffb",
   "metadata": {},
   "outputs": [
    {
     "name": "stdout",
     "output_type": "stream",
     "text": [
      "[255 255 255]\n"
     ]
    }
   ],
   "source": [
    "# You can modify the pixel values the same way\n",
    "img[100, 100] = [255, 255, 255]\n",
    "print(img[100 ,100])"
   ]
  },
  {
   "cell_type": "code",
   "execution_count": 7,
   "id": "ee785c9b",
   "metadata": {},
   "outputs": [
    {
     "name": "stdout",
     "output_type": "stream",
     "text": [
      "img.item(10, 10, 2): 8\n",
      "img.item(10,10,2): 100\n"
     ]
    }
   ],
   "source": [
    "# Better pixel accessing and editing method\n",
    "# Accessing Red value\n",
    "print(f\"img.item(10, 10, 2): {img.item(10, 10, 2)}\")\n",
    "\n",
    "# Modifying Red value \n",
    "img.itemset((10,10,2),100)\n",
    "print(f\"img.item(10,10,2): {img.item(10,10,2)}\")"
   ]
  },
  {
   "cell_type": "code",
   "execution_count": 8,
   "id": "b7fd1898",
   "metadata": {},
   "outputs": [
    {
     "name": "stdout",
     "output_type": "stream",
     "text": [
      "(177, 284, 3)\n"
     ]
    }
   ],
   "source": [
    "# Accesing Image Properties\n",
    "print(img.shape)"
   ]
  },
  {
   "cell_type": "code",
   "execution_count": 9,
   "id": "b946e27c",
   "metadata": {},
   "outputs": [
    {
     "name": "stdout",
     "output_type": "stream",
     "text": [
      "150804\n"
     ]
    }
   ],
   "source": [
    "print(img.size)"
   ]
  },
  {
   "cell_type": "code",
   "execution_count": 11,
   "id": "d87d17a3",
   "metadata": {},
   "outputs": [
    {
     "name": "stdout",
     "output_type": "stream",
     "text": [
      "uint8\n"
     ]
    }
   ],
   "source": [
    "print(img.dtype)"
   ]
  },
  {
   "cell_type": "code",
   "execution_count": null,
   "id": "64993881",
   "metadata": {},
   "outputs": [],
   "source": []
  }
 ],
 "metadata": {
  "kernelspec": {
   "display_name": "Python 3 (ipykernel)",
   "language": "python",
   "name": "python3"
  },
  "language_info": {
   "codemirror_mode": {
    "name": "ipython",
    "version": 3
   },
   "file_extension": ".py",
   "mimetype": "text/x-python",
   "name": "python",
   "nbconvert_exporter": "python",
   "pygments_lexer": "ipython3",
   "version": "3.8.9"
  }
 },
 "nbformat": 4,
 "nbformat_minor": 5
}
