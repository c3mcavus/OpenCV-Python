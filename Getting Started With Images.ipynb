{
 "cells": [
  {
   "cell_type": "code",
   "execution_count": 3,
   "id": "e73c7609",
   "metadata": {},
   "outputs": [],
   "source": [
    "# 3.8.9 @c3mcavus\n",
    "\n",
    "import cv2 as cv\n",
    "import sys\n",
    "\n",
    "# Read the image from 'images' directory\n",
    "img = cv.imread('images/starry_night.jpg') # Van Gogh\n",
    "\n",
    "# Check the image was loaded correctly\n",
    "if img is None:\n",
    "    sys.exit(\"Could not read the image!\")\n",
    "\n",
    "# Show the image , first argument is the title of the window\n",
    "cv.imshow('Display Window', img)\n",
    "# Display until the user press any key\n",
    "k = cv.waitKey(0)\n",
    "\n",
    "# If user press 's', save the images as follow in below \n",
    "if k == ord(\"s\"):\n",
    "    cv.imwrite(\"images/starry_night_saved.png\", img)\n",
    "\n",
    "# Close all windows\n",
    "cv.destroyAllWindows()"
   ]
  },
  {
   "cell_type": "code",
   "execution_count": null,
   "id": "03ebab50",
   "metadata": {},
   "outputs": [],
   "source": []
  }
 ],
 "metadata": {
  "kernelspec": {
   "display_name": "Python 3 (ipykernel)",
   "language": "python",
   "name": "python3"
  },
  "language_info": {
   "codemirror_mode": {
    "name": "ipython",
    "version": 3
   },
   "file_extension": ".py",
   "mimetype": "text/x-python",
   "name": "python",
   "nbconvert_exporter": "python",
   "pygments_lexer": "ipython3",
   "version": "3.8.9"
  }
 },
 "nbformat": 4,
 "nbformat_minor": 5
}
